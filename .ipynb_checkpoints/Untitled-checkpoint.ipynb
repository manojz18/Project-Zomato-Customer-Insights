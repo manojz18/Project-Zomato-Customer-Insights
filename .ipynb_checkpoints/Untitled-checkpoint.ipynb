{
 "cells": [
  {
   "cell_type": "code",
   "execution_count": 3,
   "id": "33d452cc-a00f-4ea2-be53-59edbdb5d295",
   "metadata": {},
   "outputs": [
    {
     "name": "stdout",
     "output_type": "stream",
     "text": [
      "Collecting pandas\n",
      "  Downloading pandas-2.2.2-cp312-cp312-win_amd64.whl.metadata (19 kB)\n",
      "Collecting numpy>=1.26.0 (from pandas)\n",
      "  Downloading numpy-2.1.0-cp312-cp312-win_amd64.whl.metadata (59 kB)\n",
      "     ---------------------------------------- 0.0/59.7 kB ? eta -:--:--\n",
      "     -------------------- ------------------- 30.7/59.7 kB ? eta -:--:--\n",
      "     -------------------- ------------------- 30.7/59.7 kB ? eta -:--:--\n",
      "     -------------------- ------------------- 30.7/59.7 kB ? eta -:--:--\n",
      "     -------------------- ------------------- 30.7/59.7 kB ? eta -:--:--\n",
      "     -------------------- ------------------- 30.7/59.7 kB ? eta -:--:--\n",
      "     -------------------------------------- 59.7/59.7 kB 186.8 kB/s eta 0:00:00\n",
      "Requirement already satisfied: python-dateutil>=2.8.2 in c:\\users\\manoj\\appdata\\local\\programs\\python\\python312\\lib\\site-packages (from pandas) (2.9.0.post0)\n",
      "Collecting pytz>=2020.1 (from pandas)\n",
      "  Downloading pytz-2024.1-py2.py3-none-any.whl.metadata (22 kB)\n",
      "Collecting tzdata>=2022.7 (from pandas)\n",
      "  Downloading tzdata-2024.1-py2.py3-none-any.whl.metadata (1.4 kB)\n",
      "Requirement already satisfied: six>=1.5 in c:\\users\\manoj\\appdata\\local\\programs\\python\\python312\\lib\\site-packages (from python-dateutil>=2.8.2->pandas) (1.16.0)\n",
      "Downloading pandas-2.2.2-cp312-cp312-win_amd64.whl (11.5 MB)\n",
      "   ---------------------------------------- 0.0/11.5 MB ? eta -:--:--\n",
      "   ---------------------------------------- 0.1/11.5 MB 1.1 MB/s eta 0:00:11\n",
      "   ---------------------------------------- 0.1/11.5 MB 1.3 MB/s eta 0:00:09\n",
      "    --------------------------------------- 0.2/11.5 MB 1.7 MB/s eta 0:00:07\n",
      "   - -------------------------------------- 0.4/11.5 MB 2.3 MB/s eta 0:00:05\n",
      "   - -------------------------------------- 0.5/11.5 MB 2.3 MB/s eta 0:00:05\n",
      "   --- ------------------------------------ 0.9/11.5 MB 3.5 MB/s eta 0:00:04\n",
      "   --- ------------------------------------ 1.0/11.5 MB 3.1 MB/s eta 0:00:04\n",
      "   ---- ----------------------------------- 1.3/11.5 MB 3.9 MB/s eta 0:00:03\n",
      "   ----- ---------------------------------- 1.6/11.5 MB 3.9 MB/s eta 0:00:03\n",
      "   ------ --------------------------------- 1.9/11.5 MB 4.1 MB/s eta 0:00:03\n",
      "   ------- -------------------------------- 2.1/11.5 MB 4.3 MB/s eta 0:00:03\n",
      "   -------- ------------------------------- 2.4/11.5 MB 4.4 MB/s eta 0:00:03\n",
      "   --------- ------------------------------ 2.7/11.5 MB 4.5 MB/s eta 0:00:02\n",
      "   --------- ------------------------------ 2.8/11.5 MB 4.5 MB/s eta 0:00:02\n",
      "   ---------- ----------------------------- 3.1/11.5 MB 4.6 MB/s eta 0:00:02\n",
      "   ----------- ---------------------------- 3.4/11.5 MB 4.7 MB/s eta 0:00:02\n",
      "   ------------ --------------------------- 3.7/11.5 MB 4.7 MB/s eta 0:00:02\n",
      "   -------------- ------------------------- 4.0/11.5 MB 5.0 MB/s eta 0:00:02\n",
      "   -------------- ------------------------- 4.2/11.5 MB 5.0 MB/s eta 0:00:02\n",
      "   --------------- ------------------------ 4.4/11.5 MB 4.9 MB/s eta 0:00:02\n",
      "   ----------------- ---------------------- 4.9/11.5 MB 5.2 MB/s eta 0:00:02\n",
      "   ------------------ --------------------- 5.3/11.5 MB 5.3 MB/s eta 0:00:02\n",
      "   ------------------- -------------------- 5.7/11.5 MB 5.5 MB/s eta 0:00:02\n",
      "   --------------------- ------------------ 6.0/11.5 MB 5.5 MB/s eta 0:00:01\n",
      "   ---------------------- ----------------- 6.4/11.5 MB 5.6 MB/s eta 0:00:01\n",
      "   ------------------------ --------------- 6.9/11.5 MB 5.8 MB/s eta 0:00:01\n",
      "   ------------------------- -------------- 7.3/11.5 MB 5.9 MB/s eta 0:00:01\n",
      "   -------------------------- ------------- 7.7/11.5 MB 6.0 MB/s eta 0:00:01\n",
      "   --------------------------- ------------ 8.0/11.5 MB 6.0 MB/s eta 0:00:01\n",
      "   ----------------------------- ---------- 8.6/11.5 MB 6.2 MB/s eta 0:00:01\n",
      "   ------------------------------- -------- 9.0/11.5 MB 6.3 MB/s eta 0:00:01\n",
      "   -------------------------------- ------- 9.5/11.5 MB 6.4 MB/s eta 0:00:01\n",
      "   ---------------------------------- ----- 9.9/11.5 MB 6.5 MB/s eta 0:00:01\n",
      "   ------------------------------------ --- 10.4/11.5 MB 7.0 MB/s eta 0:00:01\n",
      "   ------------------------------------- -- 10.8/11.5 MB 7.4 MB/s eta 0:00:01\n",
      "   -------------------------------------- - 11.0/11.5 MB 7.4 MB/s eta 0:00:01\n",
      "   ---------------------------------------  11.3/11.5 MB 7.4 MB/s eta 0:00:01\n",
      "   ---------------------------------------  11.5/11.5 MB 7.5 MB/s eta 0:00:01\n",
      "   ---------------------------------------- 11.5/11.5 MB 7.3 MB/s eta 0:00:00\n",
      "Downloading numpy-2.1.0-cp312-cp312-win_amd64.whl (12.6 MB)\n",
      "   ---------------------------------------- 0.0/12.6 MB ? eta -:--:--\n",
      "   - -------------------------------------- 0.4/12.6 MB 8.5 MB/s eta 0:00:02\n",
      "   --- ------------------------------------ 1.0/12.6 MB 9.5 MB/s eta 0:00:02\n",
      "   ---- ----------------------------------- 1.3/12.6 MB 9.4 MB/s eta 0:00:02\n",
      "   ----- ---------------------------------- 1.8/12.6 MB 9.3 MB/s eta 0:00:02\n",
      "   ------- -------------------------------- 2.2/12.6 MB 10.0 MB/s eta 0:00:02\n",
      "   -------- ------------------------------- 2.7/12.6 MB 10.3 MB/s eta 0:00:01\n",
      "   ---------- ----------------------------- 3.2/12.6 MB 10.4 MB/s eta 0:00:01\n",
      "   ----------- ---------------------------- 3.5/12.6 MB 9.7 MB/s eta 0:00:01\n",
      "   ------------ --------------------------- 4.0/12.6 MB 9.7 MB/s eta 0:00:01\n",
      "   -------------- ------------------------- 4.4/12.6 MB 9.7 MB/s eta 0:00:01\n",
      "   ---------------- ----------------------- 5.1/12.6 MB 10.2 MB/s eta 0:00:01\n",
      "   ----------------- ---------------------- 5.5/12.6 MB 10.1 MB/s eta 0:00:01\n",
      "   ------------------- -------------------- 6.2/12.6 MB 10.4 MB/s eta 0:00:01\n",
      "   -------------------- ------------------- 6.5/12.6 MB 10.3 MB/s eta 0:00:01\n",
      "   ---------------------- ----------------- 7.0/12.6 MB 10.1 MB/s eta 0:00:01\n",
      "   ----------------------- ---------------- 7.5/12.6 MB 10.6 MB/s eta 0:00:01\n",
      "   ------------------------- -------------- 8.0/12.6 MB 10.6 MB/s eta 0:00:01\n",
      "   -------------------------- ------------- 8.5/12.6 MB 10.4 MB/s eta 0:00:01\n",
      "   ---------------------------- ----------- 9.1/12.6 MB 10.7 MB/s eta 0:00:01\n",
      "   ------------------------------ --------- 9.7/12.6 MB 10.7 MB/s eta 0:00:01\n",
      "   -------------------------------- ------- 10.2/12.6 MB 10.9 MB/s eta 0:00:01\n",
      "   --------------------------------- ------ 10.6/12.6 MB 11.1 MB/s eta 0:00:01\n",
      "   ----------------------------------- ---- 11.3/12.6 MB 11.3 MB/s eta 0:00:01\n",
      "   ------------------------------------- -- 11.9/12.6 MB 11.5 MB/s eta 0:00:01\n",
      "   ---------------------------------------  12.5/12.6 MB 11.5 MB/s eta 0:00:01\n",
      "   ---------------------------------------- 12.6/12.6 MB 11.1 MB/s eta 0:00:00\n",
      "Downloading pytz-2024.1-py2.py3-none-any.whl (505 kB)\n",
      "   ---------------------------------------- 0.0/505.5 kB ? eta -:--:--\n",
      "   --------------------------------------  501.8/505.5 kB 32.8 MB/s eta 0:00:01\n",
      "   --------------------------------------  501.8/505.5 kB 32.8 MB/s eta 0:00:01\n",
      "   --------------------------------------  501.8/505.5 kB 32.8 MB/s eta 0:00:01\n",
      "   --------------------------------------  501.8/505.5 kB 32.8 MB/s eta 0:00:01\n",
      "   ---------------------------------------- 505.5/505.5 kB 2.4 MB/s eta 0:00:00\n",
      "Downloading tzdata-2024.1-py2.py3-none-any.whl (345 kB)\n",
      "   ---------------------------------------- 0.0/345.4 kB ? eta -:--:--\n",
      "   ------------------------------------ --- 317.4/345.4 kB 6.5 MB/s eta 0:00:01\n",
      "   ---------------------------------------- 345.4/345.4 kB 5.3 MB/s eta 0:00:00\n",
      "Installing collected packages: pytz, tzdata, numpy, pandas\n",
      "Successfully installed numpy-2.1.0 pandas-2.2.2 pytz-2024.1 tzdata-2024.1\n"
     ]
    },
    {
     "name": "stderr",
     "output_type": "stream",
     "text": [
      "\n",
      "[notice] A new release of pip is available: 24.0 -> 24.2\n",
      "[notice] To update, run: python.exe -m pip install --upgrade pip\n"
     ]
    }
   ],
   "source": [
    "!pip install pandas"
   ]
  },
  {
   "cell_type": "code",
   "execution_count": 4,
   "id": "a29cfe83-73e2-4e24-8980-623f3152cfbe",
   "metadata": {},
   "outputs": [
    {
     "name": "stdout",
     "output_type": "stream",
     "text": [
      "Requirement already satisfied: numpy in c:\\users\\manoj\\appdata\\local\\programs\\python\\python312\\lib\\site-packages (2.1.0)\n"
     ]
    },
    {
     "name": "stderr",
     "output_type": "stream",
     "text": [
      "\n",
      "[notice] A new release of pip is available: 24.0 -> 24.2\n",
      "[notice] To update, run: python.exe -m pip install --upgrade pip\n"
     ]
    }
   ],
   "source": [
    "!pip install numpy\n"
   ]
  },
  {
   "cell_type": "code",
   "execution_count": 5,
   "id": "f10e533d-c245-4fdb-a3c9-4e39678b888a",
   "metadata": {},
   "outputs": [
    {
     "name": "stdout",
     "output_type": "stream",
     "text": [
      "Collecting seaborn\n",
      "  Downloading seaborn-0.13.2-py3-none-any.whl.metadata (5.4 kB)\n",
      "Requirement already satisfied: numpy!=1.24.0,>=1.20 in c:\\users\\manoj\\appdata\\local\\programs\\python\\python312\\lib\\site-packages (from seaborn) (2.1.0)\n",
      "Requirement already satisfied: pandas>=1.2 in c:\\users\\manoj\\appdata\\local\\programs\\python\\python312\\lib\\site-packages (from seaborn) (2.2.2)\n",
      "Collecting matplotlib!=3.6.1,>=3.4 (from seaborn)\n",
      "  Downloading matplotlib-3.9.2-cp312-cp312-win_amd64.whl.metadata (11 kB)\n",
      "Collecting contourpy>=1.0.1 (from matplotlib!=3.6.1,>=3.4->seaborn)\n",
      "  Downloading contourpy-1.2.1-cp312-cp312-win_amd64.whl.metadata (5.8 kB)\n",
      "Collecting cycler>=0.10 (from matplotlib!=3.6.1,>=3.4->seaborn)\n",
      "  Downloading cycler-0.12.1-py3-none-any.whl.metadata (3.8 kB)\n",
      "Collecting fonttools>=4.22.0 (from matplotlib!=3.6.1,>=3.4->seaborn)\n",
      "  Downloading fonttools-4.53.1-cp312-cp312-win_amd64.whl.metadata (165 kB)\n",
      "     ---------------------------------------- 0.0/165.9 kB ? eta -:--:--\n",
      "     -- ------------------------------------- 10.2/165.9 kB ? eta -:--:--\n",
      "     -- ------------------------------------- 10.2/165.9 kB ? eta -:--:--\n",
      "     -- ------------------------------------- 10.2/165.9 kB ? eta -:--:--\n",
      "     --------- --------------------------- 41.0/165.9 kB 219.4 kB/s eta 0:00:01\n",
      "     -------------------- ---------------- 92.2/165.9 kB 403.5 kB/s eta 0:00:01\n",
      "     ------------------------------- ---- 143.4/165.9 kB 532.5 kB/s eta 0:00:01\n",
      "     ------------------------------------ 165.9/165.9 kB 554.0 kB/s eta 0:00:00\n",
      "Collecting kiwisolver>=1.3.1 (from matplotlib!=3.6.1,>=3.4->seaborn)\n",
      "  Downloading kiwisolver-1.4.5-cp312-cp312-win_amd64.whl.metadata (6.5 kB)\n",
      "Requirement already satisfied: packaging>=20.0 in c:\\users\\manoj\\appdata\\local\\programs\\python\\python312\\lib\\site-packages (from matplotlib!=3.6.1,>=3.4->seaborn) (24.1)\n",
      "Collecting pillow>=8 (from matplotlib!=3.6.1,>=3.4->seaborn)\n",
      "  Downloading pillow-10.4.0-cp312-cp312-win_amd64.whl.metadata (9.3 kB)\n",
      "Collecting pyparsing>=2.3.1 (from matplotlib!=3.6.1,>=3.4->seaborn)\n",
      "  Downloading pyparsing-3.1.2-py3-none-any.whl.metadata (5.1 kB)\n",
      "Requirement already satisfied: python-dateutil>=2.7 in c:\\users\\manoj\\appdata\\local\\programs\\python\\python312\\lib\\site-packages (from matplotlib!=3.6.1,>=3.4->seaborn) (2.9.0.post0)\n",
      "Requirement already satisfied: pytz>=2020.1 in c:\\users\\manoj\\appdata\\local\\programs\\python\\python312\\lib\\site-packages (from pandas>=1.2->seaborn) (2024.1)\n",
      "Requirement already satisfied: tzdata>=2022.7 in c:\\users\\manoj\\appdata\\local\\programs\\python\\python312\\lib\\site-packages (from pandas>=1.2->seaborn) (2024.1)\n",
      "Requirement already satisfied: six>=1.5 in c:\\users\\manoj\\appdata\\local\\programs\\python\\python312\\lib\\site-packages (from python-dateutil>=2.7->matplotlib!=3.6.1,>=3.4->seaborn) (1.16.0)\n",
      "Downloading seaborn-0.13.2-py3-none-any.whl (294 kB)\n",
      "   ---------------------------------------- 0.0/294.9 kB ? eta -:--:--\n",
      "   ------------------- -------------------- 143.4/294.9 kB ? eta -:--:--\n",
      "   ----------------------- ---------------- 174.1/294.9 kB 1.7 MB/s eta 0:00:01\n",
      "   -------------------------------------- - 286.7/294.9 kB 2.2 MB/s eta 0:00:01\n",
      "   ---------------------------------------- 294.9/294.9 kB 2.0 MB/s eta 0:00:00\n",
      "Downloading matplotlib-3.9.2-cp312-cp312-win_amd64.whl (7.8 MB)\n",
      "   ---------------------------------------- 0.0/7.8 MB ? eta -:--:--\n",
      "    --------------------------------------- 0.1/7.8 MB 3.6 MB/s eta 0:00:03\n",
      "   - -------------------------------------- 0.2/7.8 MB 3.1 MB/s eta 0:00:03\n",
      "   - -------------------------------------- 0.2/7.8 MB 3.1 MB/s eta 0:00:03\n",
      "   - -------------------------------------- 0.2/7.8 MB 1.5 MB/s eta 0:00:05\n",
      "   - -------------------------------------- 0.2/7.8 MB 1.5 MB/s eta 0:00:05\n",
      "   - -------------------------------------- 0.2/7.8 MB 1.5 MB/s eta 0:00:05\n",
      "   - -------------------------------------- 0.2/7.8 MB 1.5 MB/s eta 0:00:05\n",
      "   - -------------------------------------- 0.3/7.8 MB 776.2 kB/s eta 0:00:10\n",
      "   - -------------------------------------- 0.3/7.8 MB 776.2 kB/s eta 0:00:10\n",
      "   - -------------------------------------- 0.3/7.8 MB 776.2 kB/s eta 0:00:10\n",
      "   - -------------------------------------- 0.3/7.8 MB 776.2 kB/s eta 0:00:10\n",
      "   -- ------------------------------------- 0.4/7.8 MB 771.4 kB/s eta 0:00:10\n",
      "   -- ------------------------------------- 0.4/7.8 MB 771.4 kB/s eta 0:00:10\n",
      "   -- ------------------------------------- 0.6/7.8 MB 868.4 kB/s eta 0:00:09\n",
      "   -- ------------------------------------- 0.6/7.8 MB 868.4 kB/s eta 0:00:09\n",
      "   ---- ----------------------------------- 0.8/7.8 MB 1.2 MB/s eta 0:00:06\n",
      "   ----- ---------------------------------- 1.0/7.8 MB 1.2 MB/s eta 0:00:06\n",
      "   ----- ---------------------------------- 1.1/7.8 MB 1.3 MB/s eta 0:00:06\n",
      "   ------ --------------------------------- 1.2/7.8 MB 1.4 MB/s eta 0:00:05\n",
      "   ------ --------------------------------- 1.3/7.8 MB 1.4 MB/s eta 0:00:05\n",
      "   ------- -------------------------------- 1.4/7.8 MB 1.5 MB/s eta 0:00:05\n",
      "   ------- -------------------------------- 1.4/7.8 MB 1.5 MB/s eta 0:00:05\n",
      "   -------- ------------------------------- 1.6/7.8 MB 1.6 MB/s eta 0:00:04\n",
      "   -------- ------------------------------- 1.6/7.8 MB 1.6 MB/s eta 0:00:04\n",
      "   -------- ------------------------------- 1.7/7.8 MB 1.5 MB/s eta 0:00:05\n",
      "   -------- ------------------------------- 1.7/7.8 MB 1.5 MB/s eta 0:00:05\n",
      "   ----------- ---------------------------- 2.2/7.8 MB 1.8 MB/s eta 0:00:04\n",
      "   ------------ --------------------------- 2.4/7.8 MB 1.8 MB/s eta 0:00:03\n",
      "   ------------ --------------------------- 2.5/7.8 MB 1.9 MB/s eta 0:00:03\n",
      "   ------------- -------------------------- 2.7/7.8 MB 1.9 MB/s eta 0:00:03\n",
      "   -------------- ------------------------- 2.8/7.8 MB 2.0 MB/s eta 0:00:03\n",
      "   -------------- ------------------------- 2.8/7.8 MB 2.0 MB/s eta 0:00:03\n",
      "   -------------- ------------------------- 2.9/7.8 MB 1.9 MB/s eta 0:00:03\n",
      "   --------------- ------------------------ 3.0/7.8 MB 2.0 MB/s eta 0:00:03\n",
      "   ---------------- ----------------------- 3.3/7.8 MB 2.0 MB/s eta 0:00:03\n",
      "   ----------------- ---------------------- 3.4/7.8 MB 2.0 MB/s eta 0:00:03\n",
      "   ----------------- ---------------------- 3.5/7.8 MB 2.1 MB/s eta 0:00:03\n",
      "   ----------------- ---------------------- 3.5/7.8 MB 2.1 MB/s eta 0:00:03\n",
      "   ----------------- ---------------------- 3.5/7.8 MB 2.0 MB/s eta 0:00:03\n",
      "   ------------------- -------------------- 3.8/7.8 MB 2.1 MB/s eta 0:00:02\n",
      "   ------------------- -------------------- 3.8/7.8 MB 2.1 MB/s eta 0:00:02\n",
      "   --------------------- ------------------ 4.2/7.8 MB 2.1 MB/s eta 0:00:02\n",
      "   --------------------- ------------------ 4.3/7.8 MB 2.1 MB/s eta 0:00:02\n",
      "   ---------------------- ----------------- 4.4/7.8 MB 2.2 MB/s eta 0:00:02\n",
      "   ---------------------- ----------------- 4.5/7.8 MB 2.2 MB/s eta 0:00:02\n",
      "   ---------------------- ----------------- 4.5/7.8 MB 2.2 MB/s eta 0:00:02\n",
      "   ----------------------- ---------------- 4.6/7.8 MB 2.1 MB/s eta 0:00:02\n",
      "   ----------------------- ---------------- 4.6/7.8 MB 2.1 MB/s eta 0:00:02\n",
      "   ----------------------- ---------------- 4.6/7.8 MB 2.1 MB/s eta 0:00:02\n",
      "   -------------------------- ------------- 5.1/7.8 MB 2.2 MB/s eta 0:00:02\n",
      "   --------------------------- ------------ 5.5/7.8 MB 2.3 MB/s eta 0:00:02\n",
      "   ---------------------------- ----------- 5.6/7.8 MB 2.3 MB/s eta 0:00:01\n",
      "   ----------------------------- ---------- 5.8/7.8 MB 2.4 MB/s eta 0:00:01\n",
      "   ------------------------------ --------- 6.0/7.8 MB 2.4 MB/s eta 0:00:01\n",
      "   ------------------------------- -------- 6.2/7.8 MB 2.4 MB/s eta 0:00:01\n",
      "   -------------------------------- ------- 6.3/7.8 MB 2.4 MB/s eta 0:00:01\n",
      "   -------------------------------- ------- 6.5/7.8 MB 2.4 MB/s eta 0:00:01\n",
      "   -------------------------------- ------- 6.5/7.8 MB 2.4 MB/s eta 0:00:01\n",
      "   -------------------------------- ------- 6.5/7.8 MB 2.4 MB/s eta 0:00:01\n",
      "   -------------------------------- ------- 6.5/7.8 MB 2.4 MB/s eta 0:00:01\n",
      "   --------------------------------- ------ 6.6/7.8 MB 2.4 MB/s eta 0:00:01\n",
      "   ----------------------------------- ---- 7.0/7.8 MB 2.4 MB/s eta 0:00:01\n",
      "   ------------------------------------- -- 7.4/7.8 MB 2.5 MB/s eta 0:00:01\n",
      "   -------------------------------------- - 7.5/7.8 MB 2.6 MB/s eta 0:00:01\n",
      "   -------------------------------------- - 7.6/7.8 MB 2.5 MB/s eta 0:00:01\n",
      "   -------------------------------------- - 7.6/7.8 MB 2.5 MB/s eta 0:00:01\n",
      "   ---------------------------------------  7.8/7.8 MB 2.5 MB/s eta 0:00:01\n",
      "   ---------------------------------------- 7.8/7.8 MB 2.5 MB/s eta 0:00:00\n",
      "Downloading contourpy-1.2.1-cp312-cp312-win_amd64.whl (189 kB)\n",
      "   ---------------------------------------- 0.0/189.9 kB ? eta -:--:--\n",
      "   ----------------------- ---------------- 112.6/189.9 kB 3.3 MB/s eta 0:00:01\n",
      "   ----------------------- ---------------- 112.6/189.9 kB 3.3 MB/s eta 0:00:01\n",
      "   ---------------------------------- ----- 163.8/189.9 kB 1.4 MB/s eta 0:00:01\n",
      "   ---------------------------------- ----- 163.8/189.9 kB 1.4 MB/s eta 0:00:01\n",
      "   ---------------------------------- ----- 163.8/189.9 kB 1.4 MB/s eta 0:00:01\n",
      "   ---------------------------------- ----- 163.8/189.9 kB 1.4 MB/s eta 0:00:01\n",
      "   ---------------------------------- ----- 163.8/189.9 kB 1.4 MB/s eta 0:00:01\n",
      "   ---------------------------------- ----- 163.8/189.9 kB 1.4 MB/s eta 0:00:01\n",
      "   ---------------------------------- ----- 163.8/189.9 kB 1.4 MB/s eta 0:00:01\n",
      "   ---------------------------------- ----- 163.8/189.9 kB 1.4 MB/s eta 0:00:01\n",
      "   -------------------------------------- 189.9/189.9 kB 370.4 kB/s eta 0:00:00\n",
      "Downloading cycler-0.12.1-py3-none-any.whl (8.3 kB)\n",
      "Downloading fonttools-4.53.1-cp312-cp312-win_amd64.whl (2.2 MB)\n",
      "   ---------------------------------------- 0.0/2.2 MB ? eta -:--:--\n",
      "   ---------------------------------------- 0.0/2.2 MB ? eta -:--:--\n",
      "   ---------------------------------------- 0.0/2.2 MB ? eta -:--:--\n",
      "   ---- ----------------------------------- 0.3/2.2 MB 2.3 MB/s eta 0:00:01\n",
      "   ----- ---------------------------------- 0.3/2.2 MB 2.3 MB/s eta 0:00:01\n",
      "   ----- ---------------------------------- 0.3/2.2 MB 2.3 MB/s eta 0:00:01\n",
      "   ----- ---------------------------------- 0.3/2.2 MB 2.3 MB/s eta 0:00:01\n",
      "   -------- ------------------------------- 0.4/2.2 MB 1.4 MB/s eta 0:00:02\n",
      "   -------- ------------------------------- 0.5/2.2 MB 1.2 MB/s eta 0:00:02\n",
      "   --------------------- ------------------ 1.2/2.2 MB 2.7 MB/s eta 0:00:01\n",
      "   --------------------------- ------------ 1.5/2.2 MB 3.3 MB/s eta 0:00:01\n",
      "   --------------------------- ------------ 1.5/2.2 MB 3.2 MB/s eta 0:00:01\n",
      "   --------------------------- ------------ 1.5/2.2 MB 3.2 MB/s eta 0:00:01\n",
      "   --------------------------- ------------ 1.5/2.2 MB 3.2 MB/s eta 0:00:01\n",
      "   ------------------------------ --------- 1.7/2.2 MB 2.7 MB/s eta 0:00:01\n",
      "   ------------------------------------ --- 2.0/2.2 MB 2.8 MB/s eta 0:00:01\n",
      "   ------------------------------------ --- 2.0/2.2 MB 2.8 MB/s eta 0:00:01\n",
      "   ---------------------------------------  2.2/2.2 MB 2.8 MB/s eta 0:00:01\n",
      "   ---------------------------------------  2.2/2.2 MB 2.8 MB/s eta 0:00:01\n",
      "   ---------------------------------------- 2.2/2.2 MB 2.5 MB/s eta 0:00:00\n",
      "Downloading kiwisolver-1.4.5-cp312-cp312-win_amd64.whl (56 kB)\n",
      "   ---------------------------------------- 0.0/56.0 kB ? eta -:--:--\n",
      "   ---------------------------------------- 0.0/56.0 kB ? eta -:--:--\n",
      "   ------- -------------------------------- 10.2/56.0 kB ? eta -:--:--\n",
      "   ------- -------------------------------- 10.2/56.0 kB ? eta -:--:--\n",
      "   ------------------------------------ --- 51.2/56.0 kB 440.4 kB/s eta 0:00:01\n",
      "   ---------------------------------------- 56.0/56.0 kB 366.1 kB/s eta 0:00:00\n",
      "Downloading pillow-10.4.0-cp312-cp312-win_amd64.whl (2.6 MB)\n",
      "   ---------------------------------------- 0.0/2.6 MB ? eta -:--:--\n",
      "   ---------------------------------------- 0.0/2.6 MB ? eta -:--:--\n",
      "   - -------------------------------------- 0.1/2.6 MB 2.4 MB/s eta 0:00:01\n",
      "   ---- ----------------------------------- 0.3/2.6 MB 5.0 MB/s eta 0:00:01\n",
      "   ---- ----------------------------------- 0.3/2.6 MB 5.0 MB/s eta 0:00:01\n",
      "   --------- ------------------------------ 0.6/2.6 MB 3.7 MB/s eta 0:00:01\n",
      "   ------------ --------------------------- 0.8/2.6 MB 3.5 MB/s eta 0:00:01\n",
      "   --------------- ------------------------ 1.0/2.6 MB 4.2 MB/s eta 0:00:01\n",
      "   ---------------- ----------------------- 1.1/2.6 MB 3.4 MB/s eta 0:00:01\n",
      "   ------------------ --------------------- 1.2/2.6 MB 3.5 MB/s eta 0:00:01\n",
      "   ------------------- -------------------- 1.3/2.6 MB 3.1 MB/s eta 0:00:01\n",
      "   ---------------------- ----------------- 1.4/2.6 MB 3.1 MB/s eta 0:00:01\n",
      "   ------------------------- -------------- 1.6/2.6 MB 3.4 MB/s eta 0:00:01\n",
      "   ------------------------- -------------- 1.6/2.6 MB 3.4 MB/s eta 0:00:01\n",
      "   ------------------------- -------------- 1.6/2.6 MB 3.4 MB/s eta 0:00:01\n",
      "   ------------------------- -------------- 1.6/2.6 MB 3.4 MB/s eta 0:00:01\n",
      "   -------------------------- ------------- 1.7/2.6 MB 2.6 MB/s eta 0:00:01\n",
      "   -------------------------- ------------- 1.7/2.6 MB 2.6 MB/s eta 0:00:01\n",
      "   ------------------------------- -------- 2.0/2.6 MB 2.5 MB/s eta 0:00:01\n",
      "   -------------------------------- ------- 2.1/2.6 MB 2.6 MB/s eta 0:00:01\n",
      "   ------------------------------------ --- 2.3/2.6 MB 2.7 MB/s eta 0:00:01\n",
      "   ---------------------------------------  2.5/2.6 MB 2.8 MB/s eta 0:00:01\n",
      "   ---------------------------------------- 2.6/2.6 MB 2.7 MB/s eta 0:00:00\n",
      "Downloading pyparsing-3.1.2-py3-none-any.whl (103 kB)\n",
      "   ---------------------------------------- 0.0/103.2 kB ? eta -:--:--\n",
      "   ------------------------------- -------- 81.9/103.2 kB 4.8 MB/s eta 0:00:01\n",
      "   ------------------------------- -------- 81.9/103.2 kB 4.8 MB/s eta 0:00:01\n",
      "   -------------------------------------- 103.2/103.2 kB 853.3 kB/s eta 0:00:00\n",
      "Installing collected packages: pyparsing, pillow, kiwisolver, fonttools, cycler, contourpy, matplotlib, seaborn\n",
      "Successfully installed contourpy-1.2.1 cycler-0.12.1 fonttools-4.53.1 kiwisolver-1.4.5 matplotlib-3.9.2 pillow-10.4.0 pyparsing-3.1.2 seaborn-0.13.2\n"
     ]
    },
    {
     "name": "stderr",
     "output_type": "stream",
     "text": [
      "\n",
      "[notice] A new release of pip is available: 24.0 -> 24.2\n",
      "[notice] To update, run: python.exe -m pip install --upgrade pip\n"
     ]
    }
   ],
   "source": [
    "!pip install seaborn"
   ]
  },
  {
   "cell_type": "code",
   "execution_count": 7,
   "id": "feefe21f-d819-4c3c-8be8-d83602cd5ba8",
   "metadata": {},
   "outputs": [],
   "source": [
    "import pandas as pd\n",
    "import numpy as np\n",
    "import seaborn as sns\n",
    "import matplotlib.pyplot as plt"
   ]
  },
  {
   "cell_type": "code",
   "execution_count": 10,
   "id": "837ff7b7-32d1-456f-b38d-7af783b3dac6",
   "metadata": {},
   "outputs": [
    {
     "name": "stdout",
     "output_type": "stream",
     "text": [
      "                      name online_order book_table   rate  votes  \\\n",
      "0                    Jalsa          Yes        Yes  4.1/5    775   \n",
      "1           Spice Elephant          Yes         No  4.1/5    787   \n",
      "2          San Churro Cafe          Yes         No  3.8/5    918   \n",
      "3    Addhuri Udupi Bhojana           No         No  3.7/5     88   \n",
      "4            Grand Village           No         No  3.8/5    166   \n",
      "..                     ...          ...        ...    ...    ...   \n",
      "143       Melting Melodies           No         No  3.3/5      0   \n",
      "144        New Indraprasta           No         No  3.3/5      0   \n",
      "145           Anna Kuteera          Yes         No  4.0/5    771   \n",
      "146                 Darbar           No         No  3.0/5     98   \n",
      "147          Vijayalakshmi          Yes         No  3.9/5     47   \n",
      "\n",
      "     approx_cost(for two people) listed_in(type)  \n",
      "0                            800          Buffet  \n",
      "1                            800          Buffet  \n",
      "2                            800          Buffet  \n",
      "3                            300          Buffet  \n",
      "4                            600          Buffet  \n",
      "..                           ...             ...  \n",
      "143                          100          Dining  \n",
      "144                          150          Dining  \n",
      "145                          450          Dining  \n",
      "146                          800          Dining  \n",
      "147                          200          Dining  \n",
      "\n",
      "[148 rows x 7 columns]\n"
     ]
    }
   ],
   "source": [
    "dataframe = pd.read_csv(\"Zomato data .csv\")\n",
    "print(dataframe)"
   ]
  },
  {
   "cell_type": "code",
   "execution_count": 11,
   "id": "0907b536-288a-4807-b8fb-ff1f3bf56db7",
   "metadata": {},
   "outputs": [
    {
     "name": "stdout",
     "output_type": "stream",
     "text": [
      "                    name online_order book_table  rate  votes  \\\n",
      "0                  Jalsa          Yes        Yes   4.1    775   \n",
      "1         Spice Elephant          Yes         No   4.1    787   \n",
      "2        San Churro Cafe          Yes         No   3.8    918   \n",
      "3  Addhuri Udupi Bhojana           No         No   3.7     88   \n",
      "4          Grand Village           No         No   3.8    166   \n",
      "\n",
      "   approx_cost(for two people) listed_in(type)  \n",
      "0                          800          Buffet  \n",
      "1                          800          Buffet  \n",
      "2                          800          Buffet  \n",
      "3                          300          Buffet  \n",
      "4                          600          Buffet  \n"
     ]
    }
   ],
   "source": [
    "def handleRate(value):\n",
    "    value = str(value).split('/')\n",
    "    value = value[0]\n",
    "    return float(value)\n",
    "\n",
    "dataframe['rate'] = dataframe['rate'].apply(handleRate)\n",
    "print(dataframe.head())"
   ]
  },
  {
   "cell_type": "code",
   "execution_count": 12,
   "id": "a1cc0396-7654-49a2-bbd7-0b8dee5c378b",
   "metadata": {},
   "outputs": [
    {
     "name": "stdout",
     "output_type": "stream",
     "text": [
      "<class 'pandas.core.frame.DataFrame'>\n",
      "RangeIndex: 148 entries, 0 to 147\n",
      "Data columns (total 7 columns):\n",
      " #   Column                       Non-Null Count  Dtype  \n",
      "---  ------                       --------------  -----  \n",
      " 0   name                         148 non-null    object \n",
      " 1   online_order                 148 non-null    object \n",
      " 2   book_table                   148 non-null    object \n",
      " 3   rate                         148 non-null    float64\n",
      " 4   votes                        148 non-null    int64  \n",
      " 5   approx_cost(for two people)  148 non-null    int64  \n",
      " 6   listed_in(type)              148 non-null    object \n",
      "dtypes: float64(1), int64(2), object(4)\n",
      "memory usage: 8.2+ KB\n"
     ]
    }
   ],
   "source": [
    "dataframe.info()"
   ]
  },
  {
   "cell_type": "code",
   "execution_count": 19,
   "id": "d19febbe-5427-4483-9e1c-2687123a77a1",
   "metadata": {},
   "outputs": [
    {
     "data": {
      "text/plain": [
       "Text(0.5, 0, 'type of resturant')"
      ]
     },
     "execution_count": 19,
     "metadata": {},
     "output_type": "execute_result"
    },
    {
     "data": {
      "image/png": "[encoded data removed]",
      "text/plain": [
       "<Figure size 640x480 with 1 Axes>"
      ]
     },
     "metadata": {},
     "output_type": "display_data"
    }
   ],
   "source": [
    "# Q1. from which resturant majority of customer order food\n",
    "sns.countplot(x=dataframe['listed_in(type)'])\n",
    "plt.xlabel(\"type of resturant\")"
   ]
  },
  {
   "cell_type": "code",
   "execution_count": 17,
   "id": "f496b6a5-c0e6-45a2-9b2f-ceb5a807b552",
   "metadata": {},
   "outputs": [
    {
     "data": {
      "text/plain": [
       "Text(0, 0.5, 'Votes')"
      ]
     },
     "execution_count": 17,
     "metadata": {},
     "output_type": "execute_result"
    },
    {
     "data": {
      "image/png": "[encoded data removed]",
      "text/plain": [
       "<Figure size 640x480 with 1 Axes>"
      ]
     },
     "metadata": {},
     "output_type": "display_data"
    }
   ],
   "source": [
    "# Q2. How much votes each type of resturant recived from customers\n",
    "group_data = dataframe.groupby('listed_in(type)')['votes'].sum()\n",
    "result = pd.DataFrame({'votes':group_data})\n",
    "plt.plot(result, c = \"green\", marker = \"o\")\n",
    "plt.xlabel(\"Type of Resturant\", c = \"red\", size = \"18\")\n",
    "plt.ylabel(\"Votes\", c = \"red\", size = \"18\")"
   ]
  },
  {
   "cell_type": "code",
   "execution_count": 20,
   "id": "94b5c437-4349-4a1f-b68a-4b5bb22b7396",
   "metadata": {},
   "outputs": [
    {
     "data": {
      "text/html": [
       "<div>\n",
       "<style scoped>\n",
       "    .dataframe tbody tr th:only-of-type {\n",
       "        vertical-align: middle;\n",
       "    }\n",
       "\n",
       "    .dataframe tbody tr th {\n",
       "        vertical-align: top;\n",
       "    }\n",
       "\n",
       "    .dataframe thead th {\n",
       "        text-align: right;\n",
       "    }\n",
       "</style>\n",
       "<table border=\"1\" class=\"dataframe\">\n",
       "  <thead>\n",
       "    <tr style=\"text-align: right;\">\n",
       "      <th></th>\n",
       "      <th>name</th>\n",
       "      <th>online_order</th>\n",
       "      <th>book_table</th>\n",
       "      <th>rate</th>\n",
       "      <th>votes</th>\n",
       "      <th>approx_cost(for two people)</th>\n",
       "      <th>listed_in(type)</th>\n",
       "    </tr>\n",
       "  </thead>\n",
       "  <tbody>\n",
       "    <tr>\n",
       "      <th>0</th>\n",
       "      <td>Jalsa</td>\n",
       "      <td>Yes</td>\n",
       "      <td>Yes</td>\n",
       "      <td>4.1</td>\n",
       "      <td>775</td>\n",
       "      <td>800</td>\n",
       "      <td>Buffet</td>\n",
       "    </tr>\n",
       "    <tr>\n",
       "      <th>1</th>\n",
       "      <td>Spice Elephant</td>\n",
       "      <td>Yes</td>\n",
       "      <td>No</td>\n",
       "      <td>4.1</td>\n",
       "      <td>787</td>\n",
       "      <td>800</td>\n",
       "      <td>Buffet</td>\n",
       "    </tr>\n",
       "    <tr>\n",
       "      <th>2</th>\n",
       "      <td>San Churro Cafe</td>\n",
       "      <td>Yes</td>\n",
       "      <td>No</td>\n",
       "      <td>3.8</td>\n",
       "      <td>918</td>\n",
       "      <td>800</td>\n",
       "      <td>Buffet</td>\n",
       "    </tr>\n",
       "    <tr>\n",
       "      <th>3</th>\n",
       "      <td>Addhuri Udupi Bhojana</td>\n",
       "      <td>No</td>\n",
       "      <td>No</td>\n",
       "      <td>3.7</td>\n",
       "      <td>88</td>\n",
       "      <td>300</td>\n",
       "      <td>Buffet</td>\n",
       "    </tr>\n",
       "    <tr>\n",
       "      <th>4</th>\n",
       "      <td>Grand Village</td>\n",
       "      <td>No</td>\n",
       "      <td>No</td>\n",
       "      <td>3.8</td>\n",
       "      <td>166</td>\n",
       "      <td>600</td>\n",
       "      <td>Buffet</td>\n",
       "    </tr>\n",
       "  </tbody>\n",
       "</table>\n",
       "</div>"
      ],
      "text/plain": [
       "                    name online_order book_table  rate  votes  \\\n",
       "0                  Jalsa          Yes        Yes   4.1    775   \n",
       "1         Spice Elephant          Yes         No   4.1    787   \n",
       "2        San Churro Cafe          Yes         No   3.8    918   \n",
       "3  Addhuri Udupi Bhojana           No         No   3.7     88   \n",
       "4          Grand Village           No         No   3.8    166   \n",
       "\n",
       "   approx_cost(for two people) listed_in(type)  \n",
       "0                          800          Buffet  \n",
       "1                          800          Buffet  \n",
       "2                          800          Buffet  \n",
       "3                          300          Buffet  \n",
       "4                          600          Buffet  "
      ]
     },
     "execution_count": 20,
     "metadata": {},
     "output_type": "execute_result"
    }
   ],
   "source": [
    "dataframe.head()"
   ]
  },
  {
   "cell_type": "code",
   "execution_count": 22,
   "id": "28e780e8-d91a-4eb0-ba05-0ed441f3c099",
   "metadata": {},
   "outputs": [
    {
     "data": {
      "image/png": "[encoded data removed]",
      "text/plain": [
       "<Figure size 640x480 with 1 Axes>"
      ]
     },
     "metadata": {},
     "output_type": "display_data"
    }
   ],
   "source": [
    "# Q3. What are the ratings that the majority of resturants have recived?\n",
    "plt.hist(dataframe['rate'],bins=8)\n",
    "plt.title(\"Ratings Distribution\")\n",
    "plt.show()"
   ]
  },
  {
   "cell_type": "code",
   "execution_count": 23,
   "id": "63200614-054a-4c2c-9231-35c9e2cffe01",
   "metadata": {},
   "outputs": [
    {
     "data": {
      "text/html": [
       "<div>\n",
       "<style scoped>\n",
       "    .dataframe tbody tr th:only-of-type {\n",
       "        vertical-align: middle;\n",
       "    }\n",
       "\n",
       "    .dataframe tbody tr th {\n",
       "        vertical-align: top;\n",
       "    }\n",
       "\n",
       "    .dataframe thead th {\n",
       "        text-align: right;\n",
       "    }\n",
       "</style>\n",
       "<table border=\"1\" class=\"dataframe\">\n",
       "  <thead>\n",
       "    <tr style=\"text-align: right;\">\n",
       "      <th></th>\n",
       "      <th>name</th>\n",
       "      <th>online_order</th>\n",
       "      <th>book_table</th>\n",
       "      <th>rate</th>\n",
       "      <th>votes</th>\n",
       "      <th>approx_cost(for two people)</th>\n",
       "      <th>listed_in(type)</th>\n",
       "    </tr>\n",
       "  </thead>\n",
       "  <tbody>\n",
       "    <tr>\n",
       "      <th>0</th>\n",
       "      <td>Jalsa</td>\n",
       "      <td>Yes</td>\n",
       "      <td>Yes</td>\n",
       "      <td>4.1</td>\n",
       "      <td>775</td>\n",
       "      <td>800</td>\n",
       "      <td>Buffet</td>\n",
       "    </tr>\n",
       "    <tr>\n",
       "      <th>1</th>\n",
       "      <td>Spice Elephant</td>\n",
       "      <td>Yes</td>\n",
       "      <td>No</td>\n",
       "      <td>4.1</td>\n",
       "      <td>787</td>\n",
       "      <td>800</td>\n",
       "      <td>Buffet</td>\n",
       "    </tr>\n",
       "    <tr>\n",
       "      <th>2</th>\n",
       "      <td>San Churro Cafe</td>\n",
       "      <td>Yes</td>\n",
       "      <td>No</td>\n",
       "      <td>3.8</td>\n",
       "      <td>918</td>\n",
       "      <td>800</td>\n",
       "      <td>Buffet</td>\n",
       "    </tr>\n",
       "    <tr>\n",
       "      <th>3</th>\n",
       "      <td>Addhuri Udupi Bhojana</td>\n",
       "      <td>No</td>\n",
       "      <td>No</td>\n",
       "      <td>3.7</td>\n",
       "      <td>88</td>\n",
       "      <td>300</td>\n",
       "      <td>Buffet</td>\n",
       "    </tr>\n",
       "    <tr>\n",
       "      <th>4</th>\n",
       "      <td>Grand Village</td>\n",
       "      <td>No</td>\n",
       "      <td>No</td>\n",
       "      <td>3.8</td>\n",
       "      <td>166</td>\n",
       "      <td>600</td>\n",
       "      <td>Buffet</td>\n",
       "    </tr>\n",
       "  </tbody>\n",
       "</table>\n",
       "</div>"
      ],
      "text/plain": [
       "                    name online_order book_table  rate  votes  \\\n",
       "0                  Jalsa          Yes        Yes   4.1    775   \n",
       "1         Spice Elephant          Yes         No   4.1    787   \n",
       "2        San Churro Cafe          Yes         No   3.8    918   \n",
       "3  Addhuri Udupi Bhojana           No         No   3.7     88   \n",
       "4          Grand Village           No         No   3.8    166   \n",
       "\n",
       "   approx_cost(for two people) listed_in(type)  \n",
       "0                          800          Buffet  \n",
       "1                          800          Buffet  \n",
       "2                          800          Buffet  \n",
       "3                          300          Buffet  \n",
       "4                          600          Buffet  "
      ]
     },
     "execution_count": 23,
     "metadata": {},
     "output_type": "execute_result"
    }
   ],
   "source": [
    "dataframe.head()"
   ]
  },
  {
   "cell_type": "code",
   "execution_count": 24,
   "id": "3731df1f-705e-483d-acfd-c9fba2fb9d46",
   "metadata": {},
   "outputs": [
    {
     "data": {
      "text/plain": [
       "<Axes: xlabel='approx_cost(for two people)', ylabel='count'>"
      ]
     },
     "execution_count": 24,
     "metadata": {},
     "output_type": "execute_result"
    },
    {
     "data": {
      "image/png": "[encoded data removed]",
      "text/plain": [
       "<Figure size 640x480 with 1 Axes>"
      ]
     },
     "metadata": {},
     "output_type": "display_data"
    }
   ],
   "source": [
    "# Q4. What is the avg spending of couples on each order\n",
    "couple_data = dataframe['approx_cost(for two people)']\n",
    "sns.countplot(x=couple_data)"
   ]
  },
  {
   "cell_type": "code",
   "execution_count": 25,
   "id": "e398f86a-28aa-49c4-9d7a-82d2843b8105",
   "metadata": {},
   "outputs": [
    {
     "data": {
      "text/html": [
       "<div>\n",
       "<style scoped>\n",
       "    .dataframe tbody tr th:only-of-type {\n",
       "        vertical-align: middle;\n",
       "    }\n",
       "\n",
       "    .dataframe tbody tr th {\n",
       "        vertical-align: top;\n",
       "    }\n",
       "\n",
       "    .dataframe thead th {\n",
       "        text-align: right;\n",
       "    }\n",
       "</style>\n",
       "<table border=\"1\" class=\"dataframe\">\n",
       "  <thead>\n",
       "    <tr style=\"text-align: right;\">\n",
       "      <th></th>\n",
       "      <th>name</th>\n",
       "      <th>online_order</th>\n",
       "      <th>book_table</th>\n",
       "      <th>rate</th>\n",
       "      <th>votes</th>\n",
       "      <th>approx_cost(for two people)</th>\n",
       "      <th>listed_in(type)</th>\n",
       "    </tr>\n",
       "  </thead>\n",
       "  <tbody>\n",
       "    <tr>\n",
       "      <th>0</th>\n",
       "      <td>Jalsa</td>\n",
       "      <td>Yes</td>\n",
       "      <td>Yes</td>\n",
       "      <td>4.1</td>\n",
       "      <td>775</td>\n",
       "      <td>800</td>\n",
       "      <td>Buffet</td>\n",
       "    </tr>\n",
       "    <tr>\n",
       "      <th>1</th>\n",
       "      <td>Spice Elephant</td>\n",
       "      <td>Yes</td>\n",
       "      <td>No</td>\n",
       "      <td>4.1</td>\n",
       "      <td>787</td>\n",
       "      <td>800</td>\n",
       "      <td>Buffet</td>\n",
       "    </tr>\n",
       "    <tr>\n",
       "      <th>2</th>\n",
       "      <td>San Churro Cafe</td>\n",
       "      <td>Yes</td>\n",
       "      <td>No</td>\n",
       "      <td>3.8</td>\n",
       "      <td>918</td>\n",
       "      <td>800</td>\n",
       "      <td>Buffet</td>\n",
       "    </tr>\n",
       "    <tr>\n",
       "      <th>3</th>\n",
       "      <td>Addhuri Udupi Bhojana</td>\n",
       "      <td>No</td>\n",
       "      <td>No</td>\n",
       "      <td>3.7</td>\n",
       "      <td>88</td>\n",
       "      <td>300</td>\n",
       "      <td>Buffet</td>\n",
       "    </tr>\n",
       "    <tr>\n",
       "      <th>4</th>\n",
       "      <td>Grand Village</td>\n",
       "      <td>No</td>\n",
       "      <td>No</td>\n",
       "      <td>3.8</td>\n",
       "      <td>166</td>\n",
       "      <td>600</td>\n",
       "      <td>Buffet</td>\n",
       "    </tr>\n",
       "  </tbody>\n",
       "</table>\n",
       "</div>"
      ],
      "text/plain": [
       "                    name online_order book_table  rate  votes  \\\n",
       "0                  Jalsa          Yes        Yes   4.1    775   \n",
       "1         Spice Elephant          Yes         No   4.1    787   \n",
       "2        San Churro Cafe          Yes         No   3.8    918   \n",
       "3  Addhuri Udupi Bhojana           No         No   3.7     88   \n",
       "4          Grand Village           No         No   3.8    166   \n",
       "\n",
       "   approx_cost(for two people) listed_in(type)  \n",
       "0                          800          Buffet  \n",
       "1                          800          Buffet  \n",
       "2                          800          Buffet  \n",
       "3                          300          Buffet  \n",
       "4                          600          Buffet  "
      ]
     },
     "execution_count": 25,
     "metadata": {},
     "output_type": "execute_result"
    }
   ],
   "source": [
    "# Q5. Which Mode (online/ offline) has recived max rating\n",
    "dataframe.head()"
   ]
  },
  {
   "cell_type": "code",
   "execution_count": 26,
   "id": "995ef0b5-b77f-46e2-a626-12a65e34c6d6",
   "metadata": {},
   "outputs": [
    {
     "ename": "NameError",
     "evalue": "name 'figsize' is not defined",
     "output_type": "error",
     "traceback": [
      "\u001b[1;31m---------------------------------------------------------------------------\u001b[0m",
      "\u001b[1;31mNameError\u001b[0m                                 Traceback (most recent call last)",
      "Cell \u001b[1;32mIn[26], line 1\u001b[0m\n\u001b[1;32m----> 1\u001b[0m plt\u001b[38;5;241m.\u001b[39mfigure(\u001b[43mfigsize\u001b[49m(\u001b[38;5;241m6\u001b[39m,\u001b[38;5;241m6\u001b[39m))\n\u001b[0;32m      2\u001b[0m sns\u001b[38;5;241m.\u001b[39mboxplot(x \u001b[38;5;241m=\u001b[39m \u001b[38;5;124m'\u001b[39m\u001b[38;5;124monline_order\u001b[39m\u001b[38;5;124m'\u001b[39m, y \u001b[38;5;241m=\u001b[39m \u001b[38;5;124m'\u001b[39m\u001b[38;5;124mrate\u001b[39m\u001b[38;5;124m'\u001b[39m, data \u001b[38;5;241m=\u001b[39m dataframe)\n",
      "\u001b[1;31mNameError\u001b[0m: name 'figsize' is not defined"
     ]
    }
   ],
   "source": [
    "plt.figure(figsize(6,6))\n",
    "sns.boxplot(x = 'online_order', y = 'rate', data = dataframe)"
   ]
  },
  {
   "cell_type": "code",
   "execution_count": null,
   "id": "2ad412b2-7036-4ec8-a547-e775589f75a1",
   "metadata": {},
   "outputs": [],
   "source": []
  }
 ],
 "metadata": {
  "kernelspec": {
   "display_name": "Python 3 (ipykernel)",
   "language": "python",
   "name": "python3"
  },
  "language_info": {
   "codemirror_mode": {
    "name": "ipython",
    "version": 3
   },
   "file_extension": ".py",
   "mimetype": "text/x-python",
   "name": "python",
   "nbconvert_exporter": "python",
   "pygments_lexer": "ipython3",
   "version": "3.12.3"
  }
 },
 "nbformat": 4,
 "nbformat_minor": 5
}
